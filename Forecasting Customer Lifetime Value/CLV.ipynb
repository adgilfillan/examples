{
 "cells": [
  {
   "cell_type": "markdown",
   "metadata": {},
   "source": [
    " ##  Predicting Customer Lifetime Value\n",
    " \n",
    " - Data downloaded from [Kaggle](https://www.kaggle.com/baetulo/lifetime-value)"
   ]
  },
  {
   "cell_type": "code",
   "execution_count": 54,
   "metadata": {},
   "outputs": [],
   "source": [
    "from pandas import Series, DataFrame\n",
    "import pandas as pd\n",
    "import numpy as np\n",
    "import os\n",
    "import matplotlib.pylab as plt\n",
    "from sklearn.model_selection  import train_test_split\n",
    "from sklearn.linear_model import LinearRegression\n",
    "import sklearn.metrics\n",
    "\n",
    "raw_data = pd.read_csv(\"raw_data.csv\")"
   ]
  },
  {
   "cell_type": "code",
   "execution_count": 55,
   "metadata": {},
   "outputs": [
    {
     "data": {
      "text/plain": [
       "product_type          object\n",
       "user_id              float64\n",
       "join_date             object\n",
       "hidden                 int64\n",
       "product               object\n",
       "STV                  float64\n",
       "target               float64\n",
       "credit_card_level     object\n",
       "is_lp                  int64\n",
       "aff_type              object\n",
       "is_cancelled         float64\n",
       "country_segment       object\n",
       "dtype: object"
      ]
     },
     "execution_count": 55,
     "metadata": {},
     "output_type": "execute_result"
    }
   ],
   "source": [
    "raw_data.dtypes"
   ]
  },
  {
   "cell_type": "code",
   "execution_count": 56,
   "metadata": {},
   "outputs": [
    {
     "data": {
      "text/plain": [
       "product_type         881127\n",
       "user_id              881127\n",
       "join_date            881127\n",
       "hidden               881127\n",
       "product              881127\n",
       "STV                  881127\n",
       "target               881127\n",
       "credit_card_level    881127\n",
       "is_lp                881127\n",
       "aff_type             881125\n",
       "is_cancelled         807454\n",
       "country_segment      881127\n",
       "dtype: int64"
      ]
     },
     "execution_count": 56,
     "metadata": {},
     "output_type": "execute_result"
    }
   ],
   "source": [
    "raw_data.count()"
   ]
  },
  {
   "cell_type": "code",
   "execution_count": 57,
   "metadata": {},
   "outputs": [
    {
     "data": {
      "text/html": [
       "<div>\n",
       "<style scoped>\n",
       "    .dataframe tbody tr th:only-of-type {\n",
       "        vertical-align: middle;\n",
       "    }\n",
       "\n",
       "    .dataframe tbody tr th {\n",
       "        vertical-align: top;\n",
       "    }\n",
       "\n",
       "    .dataframe thead th {\n",
       "        text-align: right;\n",
       "    }\n",
       "</style>\n",
       "<table border=\"1\" class=\"dataframe\">\n",
       "  <thead>\n",
       "    <tr style=\"text-align: right;\">\n",
       "      <th></th>\n",
       "      <th>product_type</th>\n",
       "      <th>user_id</th>\n",
       "      <th>join_date</th>\n",
       "      <th>hidden</th>\n",
       "      <th>product</th>\n",
       "      <th>STV</th>\n",
       "      <th>target</th>\n",
       "      <th>credit_card_level</th>\n",
       "      <th>is_lp</th>\n",
       "      <th>aff_type</th>\n",
       "      <th>is_cancelled</th>\n",
       "      <th>country_segment</th>\n",
       "    </tr>\n",
       "  </thead>\n",
       "  <tbody>\n",
       "    <tr>\n",
       "      <th>0</th>\n",
       "      <td>type_ex</td>\n",
       "      <td>7.0</td>\n",
       "      <td>2018-12-01 00:01:45</td>\n",
       "      <td>0</td>\n",
       "      <td>product_1</td>\n",
       "      <td>8.25</td>\n",
       "      <td>8.25</td>\n",
       "      <td>standard</td>\n",
       "      <td>0</td>\n",
       "      <td>PPL</td>\n",
       "      <td>NaN</td>\n",
       "      <td>US</td>\n",
       "    </tr>\n",
       "    <tr>\n",
       "      <th>1</th>\n",
       "      <td>type_ex</td>\n",
       "      <td>20.0</td>\n",
       "      <td>2018-12-01 00:06:05</td>\n",
       "      <td>0</td>\n",
       "      <td>product_2</td>\n",
       "      <td>8.25</td>\n",
       "      <td>8.25</td>\n",
       "      <td>standard</td>\n",
       "      <td>0</td>\n",
       "      <td>PPL</td>\n",
       "      <td>NaN</td>\n",
       "      <td>US</td>\n",
       "    </tr>\n",
       "    <tr>\n",
       "      <th>2</th>\n",
       "      <td>type_ex</td>\n",
       "      <td>22.0</td>\n",
       "      <td>2018-12-01 00:06:23</td>\n",
       "      <td>0</td>\n",
       "      <td>product_3</td>\n",
       "      <td>8.25</td>\n",
       "      <td>8.25</td>\n",
       "      <td>prepaid</td>\n",
       "      <td>0</td>\n",
       "      <td>PPL</td>\n",
       "      <td>NaN</td>\n",
       "      <td>US</td>\n",
       "    </tr>\n",
       "    <tr>\n",
       "      <th>3</th>\n",
       "      <td>type_ex</td>\n",
       "      <td>26.0</td>\n",
       "      <td>2018-12-01 00:07:12</td>\n",
       "      <td>0</td>\n",
       "      <td>product_2</td>\n",
       "      <td>8.25</td>\n",
       "      <td>8.25</td>\n",
       "      <td>standard</td>\n",
       "      <td>0</td>\n",
       "      <td>PPL</td>\n",
       "      <td>NaN</td>\n",
       "      <td>US</td>\n",
       "    </tr>\n",
       "    <tr>\n",
       "      <th>4</th>\n",
       "      <td>type_ex</td>\n",
       "      <td>59.0</td>\n",
       "      <td>2018-12-01 00:15:21</td>\n",
       "      <td>0</td>\n",
       "      <td>product_2</td>\n",
       "      <td>8.25</td>\n",
       "      <td>8.25</td>\n",
       "      <td>standard</td>\n",
       "      <td>0</td>\n",
       "      <td>PPL</td>\n",
       "      <td>NaN</td>\n",
       "      <td>Other Countries</td>\n",
       "    </tr>\n",
       "  </tbody>\n",
       "</table>\n",
       "</div>"
      ],
      "text/plain": [
       "  product_type  user_id            join_date  hidden    product   STV  target  \\\n",
       "0      type_ex      7.0  2018-12-01 00:01:45       0  product_1  8.25    8.25   \n",
       "1      type_ex     20.0  2018-12-01 00:06:05       0  product_2  8.25    8.25   \n",
       "2      type_ex     22.0  2018-12-01 00:06:23       0  product_3  8.25    8.25   \n",
       "3      type_ex     26.0  2018-12-01 00:07:12       0  product_2  8.25    8.25   \n",
       "4      type_ex     59.0  2018-12-01 00:15:21       0  product_2  8.25    8.25   \n",
       "\n",
       "  credit_card_level  is_lp aff_type  is_cancelled  country_segment  \n",
       "0          standard      0      PPL           NaN               US  \n",
       "1          standard      0      PPL           NaN               US  \n",
       "2           prepaid      0      PPL           NaN               US  \n",
       "3          standard      0      PPL           NaN               US  \n",
       "4          standard      0      PPL           NaN  Other Countries  "
      ]
     },
     "execution_count": 57,
     "metadata": {},
     "output_type": "execute_result"
    }
   ],
   "source": [
    "raw_data.head()"
   ]
  },
  {
   "cell_type": "code",
   "execution_count": 58,
   "metadata": {},
   "outputs": [],
   "source": [
    "df1 = pd.get_dummies(raw_data[\"product_type\"])"
   ]
  },
  {
   "cell_type": "code",
   "execution_count": 59,
   "metadata": {},
   "outputs": [],
   "source": [
    "df2 = pd.concat((raw_data, df1), axis=1)"
   ]
  },
  {
   "cell_type": "markdown",
   "metadata": {},
   "source": [
    "### Correlation"
   ]
  },
  {
   "cell_type": "code",
   "execution_count": 60,
   "metadata": {},
   "outputs": [
    {
     "data": {
      "text/html": [
       "<div>\n",
       "<style scoped>\n",
       "    .dataframe tbody tr th:only-of-type {\n",
       "        vertical-align: middle;\n",
       "    }\n",
       "\n",
       "    .dataframe tbody tr th {\n",
       "        vertical-align: top;\n",
       "    }\n",
       "\n",
       "    .dataframe thead th {\n",
       "        text-align: right;\n",
       "    }\n",
       "</style>\n",
       "<table border=\"1\" class=\"dataframe\">\n",
       "  <thead>\n",
       "    <tr style=\"text-align: right;\">\n",
       "      <th></th>\n",
       "      <th>product_type</th>\n",
       "      <th>user_id</th>\n",
       "      <th>join_date</th>\n",
       "      <th>hidden</th>\n",
       "      <th>product</th>\n",
       "      <th>STV</th>\n",
       "      <th>target</th>\n",
       "      <th>credit_card_level</th>\n",
       "      <th>is_lp</th>\n",
       "      <th>aff_type</th>\n",
       "      <th>is_cancelled</th>\n",
       "      <th>country_segment</th>\n",
       "      <th>type_ex</th>\n",
       "      <th>type_p</th>\n",
       "      <th>type_u</th>\n",
       "      <th>type_x</th>\n",
       "    </tr>\n",
       "  </thead>\n",
       "  <tbody>\n",
       "    <tr>\n",
       "      <th>0</th>\n",
       "      <td>type_ex</td>\n",
       "      <td>7.0</td>\n",
       "      <td>2018-12-01 00:01:45</td>\n",
       "      <td>0</td>\n",
       "      <td>product_1</td>\n",
       "      <td>8.25</td>\n",
       "      <td>8.25</td>\n",
       "      <td>standard</td>\n",
       "      <td>0</td>\n",
       "      <td>PPL</td>\n",
       "      <td>NaN</td>\n",
       "      <td>US</td>\n",
       "      <td>1</td>\n",
       "      <td>0</td>\n",
       "      <td>0</td>\n",
       "      <td>0</td>\n",
       "    </tr>\n",
       "    <tr>\n",
       "      <th>1</th>\n",
       "      <td>type_ex</td>\n",
       "      <td>20.0</td>\n",
       "      <td>2018-12-01 00:06:05</td>\n",
       "      <td>0</td>\n",
       "      <td>product_2</td>\n",
       "      <td>8.25</td>\n",
       "      <td>8.25</td>\n",
       "      <td>standard</td>\n",
       "      <td>0</td>\n",
       "      <td>PPL</td>\n",
       "      <td>NaN</td>\n",
       "      <td>US</td>\n",
       "      <td>1</td>\n",
       "      <td>0</td>\n",
       "      <td>0</td>\n",
       "      <td>0</td>\n",
       "    </tr>\n",
       "    <tr>\n",
       "      <th>2</th>\n",
       "      <td>type_ex</td>\n",
       "      <td>22.0</td>\n",
       "      <td>2018-12-01 00:06:23</td>\n",
       "      <td>0</td>\n",
       "      <td>product_3</td>\n",
       "      <td>8.25</td>\n",
       "      <td>8.25</td>\n",
       "      <td>prepaid</td>\n",
       "      <td>0</td>\n",
       "      <td>PPL</td>\n",
       "      <td>NaN</td>\n",
       "      <td>US</td>\n",
       "      <td>1</td>\n",
       "      <td>0</td>\n",
       "      <td>0</td>\n",
       "      <td>0</td>\n",
       "    </tr>\n",
       "    <tr>\n",
       "      <th>3</th>\n",
       "      <td>type_ex</td>\n",
       "      <td>26.0</td>\n",
       "      <td>2018-12-01 00:07:12</td>\n",
       "      <td>0</td>\n",
       "      <td>product_2</td>\n",
       "      <td>8.25</td>\n",
       "      <td>8.25</td>\n",
       "      <td>standard</td>\n",
       "      <td>0</td>\n",
       "      <td>PPL</td>\n",
       "      <td>NaN</td>\n",
       "      <td>US</td>\n",
       "      <td>1</td>\n",
       "      <td>0</td>\n",
       "      <td>0</td>\n",
       "      <td>0</td>\n",
       "    </tr>\n",
       "    <tr>\n",
       "      <th>4</th>\n",
       "      <td>type_ex</td>\n",
       "      <td>59.0</td>\n",
       "      <td>2018-12-01 00:15:21</td>\n",
       "      <td>0</td>\n",
       "      <td>product_2</td>\n",
       "      <td>8.25</td>\n",
       "      <td>8.25</td>\n",
       "      <td>standard</td>\n",
       "      <td>0</td>\n",
       "      <td>PPL</td>\n",
       "      <td>NaN</td>\n",
       "      <td>Other Countries</td>\n",
       "      <td>1</td>\n",
       "      <td>0</td>\n",
       "      <td>0</td>\n",
       "      <td>0</td>\n",
       "    </tr>\n",
       "  </tbody>\n",
       "</table>\n",
       "</div>"
      ],
      "text/plain": [
       "  product_type  user_id            join_date  hidden    product   STV  target  \\\n",
       "0      type_ex      7.0  2018-12-01 00:01:45       0  product_1  8.25    8.25   \n",
       "1      type_ex     20.0  2018-12-01 00:06:05       0  product_2  8.25    8.25   \n",
       "2      type_ex     22.0  2018-12-01 00:06:23       0  product_3  8.25    8.25   \n",
       "3      type_ex     26.0  2018-12-01 00:07:12       0  product_2  8.25    8.25   \n",
       "4      type_ex     59.0  2018-12-01 00:15:21       0  product_2  8.25    8.25   \n",
       "\n",
       "  credit_card_level  is_lp aff_type  is_cancelled  country_segment  type_ex  \\\n",
       "0          standard      0      PPL           NaN               US        1   \n",
       "1          standard      0      PPL           NaN               US        1   \n",
       "2           prepaid      0      PPL           NaN               US        1   \n",
       "3          standard      0      PPL           NaN               US        1   \n",
       "4          standard      0      PPL           NaN  Other Countries        1   \n",
       "\n",
       "   type_p  type_u  type_x  \n",
       "0       0       0       0  \n",
       "1       0       0       0  \n",
       "2       0       0       0  \n",
       "3       0       0       0  \n",
       "4       0       0       0  "
      ]
     },
     "execution_count": 60,
     "metadata": {},
     "output_type": "execute_result"
    }
   ],
   "source": [
    "df2.head()"
   ]
  },
  {
   "cell_type": "code",
   "execution_count": 61,
   "metadata": {},
   "outputs": [
    {
     "data": {
      "text/plain": [
       "target     1.000000\n",
       "hidden    -0.185045\n",
       "STV        0.501814\n",
       "is_lp      0.012936\n",
       "type_ex    0.043607\n",
       "type_p    -0.083589\n",
       "type_u    -0.009093\n",
       "type_x     0.068205\n",
       "Name: target, dtype: float64"
      ]
     },
     "execution_count": 61,
     "metadata": {},
     "output_type": "execute_result"
    }
   ],
   "source": [
    "cleaned_data = df2[['target','hidden','STV','is_lp','type_ex','type_p','type_u','type_x']]\n",
    "cleaned_data.corr()['target']"
   ]
  },
  {
   "cell_type": "markdown",
   "metadata": {},
   "source": [
    "### Training and Testing Split"
   ]
  },
  {
   "cell_type": "code",
   "execution_count": 62,
   "metadata": {},
   "outputs": [
    {
     "name": "stdout",
     "output_type": "stream",
     "text": [
      "Predictor - Training :  (793014, 5) Predictor - Testing :  (88113, 5)\n"
     ]
    }
   ],
   "source": [
    "predictors = cleaned_data[['STV','type_ex','type_p','type_u','type_x']]\n",
    "targets = cleaned_data.target\n",
    "\n",
    "pred_train, pred_test, tar_train, tar_test  =   train_test_split(predictors, targets, test_size=.1)\n",
    "print( \"Predictor - Training : \", pred_train.shape, \"Predictor - Testing : \", pred_test.shape )\n"
   ]
  },
  {
   "cell_type": "markdown",
   "metadata": {},
   "source": [
    "## Build and Test Model\n",
    "We build a Linear Regression equation for predicting CLV and then check its accuracy by predicting against the test dataset"
   ]
  },
  {
   "cell_type": "code",
   "execution_count": 63,
   "metadata": {},
   "outputs": [
    {
     "name": "stdout",
     "output_type": "stream",
     "text": [
      "Coefficients: \n",
      " [9.73378241e-01 2.03386842e+10 2.03386842e+10 2.03386842e+10\n",
      " 2.03386842e+10]\n",
      "Intercept: -20338684209.342915\n"
     ]
    },
    {
     "data": {
      "text/plain": [
       "0.2550377054943561"
      ]
     },
     "execution_count": 63,
     "metadata": {},
     "output_type": "execute_result"
    }
   ],
   "source": [
    "#Build model on training data\n",
    "model = LinearRegression()\n",
    "model.fit(pred_train,tar_train)\n",
    "print(\"Coefficients: \\n\", model.coef_)\n",
    "print(\"Intercept:\", model.intercept_)\n",
    "\n",
    "#Test on testing data\n",
    "predictions = model.predict(pred_test)\n",
    "predictions\n",
    "\n",
    "sklearn.metrics.r2_score(tar_test, predictions)"
   ]
  },
  {
   "cell_type": "markdown",
   "metadata": {},
   "source": [
    "It shows a 26% accuracy. This is not a good model for predicting CLV"
   ]
  }
 ],
 "metadata": {
  "kernelspec": {
   "display_name": "Python 3",
   "language": "python",
   "name": "python3"
  },
  "language_info": {
   "codemirror_mode": {
    "name": "ipython",
    "version": 3
   },
   "file_extension": ".py",
   "mimetype": "text/x-python",
   "name": "python",
   "nbconvert_exporter": "python",
   "pygments_lexer": "ipython3",
   "version": "3.8.8"
  }
 },
 "nbformat": 4,
 "nbformat_minor": 1
}
