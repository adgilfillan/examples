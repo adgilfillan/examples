{
 "cells": [
  {
   "cell_type": "markdown",
   "metadata": {},
   "source": [
    "## Model-based Collaborative Filtering System\n",
    "## Using SVD Matrix Factorization"
   ]
  },
  {
   "cell_type": "code",
   "execution_count": 1,
   "metadata": {},
   "outputs": [],
   "source": [
    "import numpy as np\n",
    "import pandas as pd\n",
    "\n",
    "import sklearn\n",
    "from sklearn.decomposition import TruncatedSVD"
   ]
  },
  {
   "cell_type": "code",
   "execution_count": 2,
   "metadata": {},
   "outputs": [],
   "source": [
    "Ratings = pd.read_csv('Ratings.csv')"
   ]
  },
  {
   "cell_type": "code",
   "execution_count": 3,
   "metadata": {},
   "outputs": [
    {
     "data": {
      "text/html": [
       "<div>\n",
       "<style scoped>\n",
       "    .dataframe tbody tr th:only-of-type {\n",
       "        vertical-align: middle;\n",
       "    }\n",
       "\n",
       "    .dataframe tbody tr th {\n",
       "        vertical-align: top;\n",
       "    }\n",
       "\n",
       "    .dataframe thead th {\n",
       "        text-align: right;\n",
       "    }\n",
       "</style>\n",
       "<table border=\"1\" class=\"dataframe\">\n",
       "  <thead>\n",
       "    <tr style=\"text-align: right;\">\n",
       "      <th></th>\n",
       "      <th>User-ID</th>\n",
       "      <th>ISBN</th>\n",
       "      <th>Book-Rating</th>\n",
       "    </tr>\n",
       "  </thead>\n",
       "  <tbody>\n",
       "    <tr>\n",
       "      <th>0</th>\n",
       "      <td>276725</td>\n",
       "      <td>034545104X</td>\n",
       "      <td>0</td>\n",
       "    </tr>\n",
       "    <tr>\n",
       "      <th>1</th>\n",
       "      <td>276726</td>\n",
       "      <td>155061224</td>\n",
       "      <td>5</td>\n",
       "    </tr>\n",
       "    <tr>\n",
       "      <th>2</th>\n",
       "      <td>276727</td>\n",
       "      <td>446520802</td>\n",
       "      <td>0</td>\n",
       "    </tr>\n",
       "    <tr>\n",
       "      <th>3</th>\n",
       "      <td>276729</td>\n",
       "      <td>052165615X</td>\n",
       "      <td>3</td>\n",
       "    </tr>\n",
       "    <tr>\n",
       "      <th>4</th>\n",
       "      <td>276729</td>\n",
       "      <td>521795028</td>\n",
       "      <td>6</td>\n",
       "    </tr>\n",
       "  </tbody>\n",
       "</table>\n",
       "</div>"
      ],
      "text/plain": [
       "   User-ID        ISBN  Book-Rating\n",
       "0   276725  034545104X            0\n",
       "1   276726   155061224            5\n",
       "2   276727   446520802            0\n",
       "3   276729  052165615X            3\n",
       "4   276729   521795028            6"
      ]
     },
     "execution_count": 3,
     "metadata": {},
     "output_type": "execute_result"
    }
   ],
   "source": [
    "Ratings.head()"
   ]
  },
  {
   "cell_type": "code",
   "execution_count": 4,
   "metadata": {},
   "outputs": [],
   "source": [
    "Books = pd.read_csv('Books.csv')"
   ]
  },
  {
   "cell_type": "code",
   "execution_count": 5,
   "metadata": {},
   "outputs": [
    {
     "data": {
      "text/html": [
       "<div>\n",
       "<style scoped>\n",
       "    .dataframe tbody tr th:only-of-type {\n",
       "        vertical-align: middle;\n",
       "    }\n",
       "\n",
       "    .dataframe tbody tr th {\n",
       "        vertical-align: top;\n",
       "    }\n",
       "\n",
       "    .dataframe thead th {\n",
       "        text-align: right;\n",
       "    }\n",
       "</style>\n",
       "<table border=\"1\" class=\"dataframe\">\n",
       "  <thead>\n",
       "    <tr style=\"text-align: right;\">\n",
       "      <th></th>\n",
       "      <th>ISBN</th>\n",
       "      <th>Book-Title</th>\n",
       "    </tr>\n",
       "  </thead>\n",
       "  <tbody>\n",
       "    <tr>\n",
       "      <th>0</th>\n",
       "      <td>195153448</td>\n",
       "      <td>Classical Mythology</td>\n",
       "    </tr>\n",
       "    <tr>\n",
       "      <th>1</th>\n",
       "      <td>2005018</td>\n",
       "      <td>Clara Callan</td>\n",
       "    </tr>\n",
       "    <tr>\n",
       "      <th>2</th>\n",
       "      <td>60973129</td>\n",
       "      <td>Decision in Normandy</td>\n",
       "    </tr>\n",
       "    <tr>\n",
       "      <th>3</th>\n",
       "      <td>374157065</td>\n",
       "      <td>Flu: The Story of the Great Influenza Pandemic...</td>\n",
       "    </tr>\n",
       "    <tr>\n",
       "      <th>4</th>\n",
       "      <td>393045218</td>\n",
       "      <td>The Mummies of Urumchi</td>\n",
       "    </tr>\n",
       "  </tbody>\n",
       "</table>\n",
       "</div>"
      ],
      "text/plain": [
       "        ISBN                                         Book-Title\n",
       "0  195153448                                Classical Mythology\n",
       "1    2005018                                       Clara Callan\n",
       "2   60973129                               Decision in Normandy\n",
       "3  374157065  Flu: The Story of the Great Influenza Pandemic...\n",
       "4  393045218                             The Mummies of Urumchi"
      ]
     },
     "execution_count": 5,
     "metadata": {},
     "output_type": "execute_result"
    }
   ],
   "source": [
    "Books.head()"
   ]
  },
  {
   "cell_type": "code",
   "execution_count": 6,
   "metadata": {},
   "outputs": [
    {
     "data": {
      "text/html": [
       "<div>\n",
       "<style scoped>\n",
       "    .dataframe tbody tr th:only-of-type {\n",
       "        vertical-align: middle;\n",
       "    }\n",
       "\n",
       "    .dataframe tbody tr th {\n",
       "        vertical-align: top;\n",
       "    }\n",
       "\n",
       "    .dataframe thead th {\n",
       "        text-align: right;\n",
       "    }\n",
       "</style>\n",
       "<table border=\"1\" class=\"dataframe\">\n",
       "  <thead>\n",
       "    <tr style=\"text-align: right;\">\n",
       "      <th></th>\n",
       "      <th>User-ID</th>\n",
       "      <th>ISBN</th>\n",
       "      <th>Book-Rating</th>\n",
       "      <th>Book-Title</th>\n",
       "    </tr>\n",
       "  </thead>\n",
       "  <tbody>\n",
       "    <tr>\n",
       "      <th>0</th>\n",
       "      <td>276725</td>\n",
       "      <td>034545104X</td>\n",
       "      <td>0</td>\n",
       "      <td>Flesh Tones: A Novel</td>\n",
       "    </tr>\n",
       "    <tr>\n",
       "      <th>1</th>\n",
       "      <td>276726</td>\n",
       "      <td>155061224</td>\n",
       "      <td>5</td>\n",
       "      <td>Rites of Passage</td>\n",
       "    </tr>\n",
       "    <tr>\n",
       "      <th>2</th>\n",
       "      <td>276727</td>\n",
       "      <td>446520802</td>\n",
       "      <td>0</td>\n",
       "      <td>The Notebook</td>\n",
       "    </tr>\n",
       "    <tr>\n",
       "      <th>3</th>\n",
       "      <td>276729</td>\n",
       "      <td>052165615X</td>\n",
       "      <td>3</td>\n",
       "      <td>Help!: Level 1</td>\n",
       "    </tr>\n",
       "    <tr>\n",
       "      <th>4</th>\n",
       "      <td>276729</td>\n",
       "      <td>521795028</td>\n",
       "      <td>6</td>\n",
       "      <td>The Amsterdam Connection : Level 4 (Cambridge ...</td>\n",
       "    </tr>\n",
       "  </tbody>\n",
       "</table>\n",
       "</div>"
      ],
      "text/plain": [
       "   User-ID        ISBN  Book-Rating  \\\n",
       "0   276725  034545104X            0   \n",
       "1   276726   155061224            5   \n",
       "2   276727   446520802            0   \n",
       "3   276729  052165615X            3   \n",
       "4   276729   521795028            6   \n",
       "\n",
       "                                          Book-Title  \n",
       "0                               Flesh Tones: A Novel  \n",
       "1                                   Rites of Passage  \n",
       "2                                       The Notebook  \n",
       "3                                     Help!: Level 1  \n",
       "4  The Amsterdam Connection : Level 4 (Cambridge ...  "
      ]
     },
     "execution_count": 6,
     "metadata": {},
     "output_type": "execute_result"
    }
   ],
   "source": [
    "combined_data = pd.merge(Ratings, Books, on='ISBN')\n",
    "combined_data.head()"
   ]
  },
  {
   "cell_type": "code",
   "execution_count": 7,
   "metadata": {},
   "outputs": [
    {
     "data": {
      "text/plain": [
       "ISBN\n",
       "971880107    7\n",
       "316666343    5\n",
       "440241073    3\n",
       "425175405    3\n",
       "385504209    3\n",
       "Name: Book-Rating, dtype: int64"
      ]
     },
     "execution_count": 7,
     "metadata": {},
     "output_type": "execute_result"
    }
   ],
   "source": [
    "combined_data.groupby('ISBN')['Book-Rating'].count().sort_values(ascending=False).head()"
   ]
  },
  {
   "cell_type": "code",
   "execution_count": 8,
   "metadata": {},
   "outputs": [
    {
     "data": {
      "text/plain": [
       "array(['Wild Animus'], dtype=object)"
      ]
     },
     "execution_count": 8,
     "metadata": {},
     "output_type": "execute_result"
    }
   ],
   "source": [
    "filter = combined_data['ISBN']=='971880107'\n",
    "combined_data[filter]['Book-Title'].unique()"
   ]
  },
  {
   "cell_type": "code",
   "execution_count": 9,
   "metadata": {},
   "outputs": [
    {
     "data": {
      "text/html": [
       "<div>\n",
       "<style scoped>\n",
       "    .dataframe tbody tr th:only-of-type {\n",
       "        vertical-align: middle;\n",
       "    }\n",
       "\n",
       "    .dataframe tbody tr th {\n",
       "        vertical-align: top;\n",
       "    }\n",
       "\n",
       "    .dataframe thead th {\n",
       "        text-align: right;\n",
       "    }\n",
       "</style>\n",
       "<table border=\"1\" class=\"dataframe\">\n",
       "  <thead>\n",
       "    <tr style=\"text-align: right;\">\n",
       "      <th>Book-Title</th>\n",
       "      <th>007 El Mundo Nunca Es Suficiente</th>\n",
       "      <th>01-01-00: The Novel of the Millennium</th>\n",
       "      <th>101 Dalmatians</th>\n",
       "      <th>101 Great Resumes</th>\n",
       "      <th>1421 : The Year China Discovered America</th>\n",
       "      <th>1st to Die: A Novel</th>\n",
       "      <th>24 Hours</th>\n",
       "      <th>28 Barbary Lane : A \\Tales of the City\\\" Omnibus\"</th>\n",
       "      <th>2nd Chance</th>\n",
       "      <th>31 Days of Praise : Enjoying God Anew</th>\n",
       "      <th>...</th>\n",
       "      <th>World's End</th>\n",
       "      <th>Writ of Execution</th>\n",
       "      <th>Writer's Digest Handbook of Magazine Article Writing</th>\n",
       "      <th>Year of Wonders: A Novel of the Plague</th>\n",
       "      <th>Your Finances in Changing Times (The Christian Financial Concepts Series)</th>\n",
       "      <th>Your Life in Your Hands: Understanding, Preventing and Overcoming Breast Cancer</th>\n",
       "      <th>Your Personal Trainer</th>\n",
       "      <th>Your Second Child</th>\n",
       "      <th>Zen Essence : The Science of Freedom (Shambhala Pocket Classics)</th>\n",
       "      <th>Â¡No bajes al sÃ³tano! (EscalofrÃ­os No. 2)</th>\n",
       "    </tr>\n",
       "    <tr>\n",
       "      <th>User-ID</th>\n",
       "      <th></th>\n",
       "      <th></th>\n",
       "      <th></th>\n",
       "      <th></th>\n",
       "      <th></th>\n",
       "      <th></th>\n",
       "      <th></th>\n",
       "      <th></th>\n",
       "      <th></th>\n",
       "      <th></th>\n",
       "      <th></th>\n",
       "      <th></th>\n",
       "      <th></th>\n",
       "      <th></th>\n",
       "      <th></th>\n",
       "      <th></th>\n",
       "      <th></th>\n",
       "      <th></th>\n",
       "      <th></th>\n",
       "      <th></th>\n",
       "      <th></th>\n",
       "    </tr>\n",
       "  </thead>\n",
       "  <tbody>\n",
       "    <tr>\n",
       "      <th>276725</th>\n",
       "      <td>0</td>\n",
       "      <td>0</td>\n",
       "      <td>0</td>\n",
       "      <td>0</td>\n",
       "      <td>0</td>\n",
       "      <td>0</td>\n",
       "      <td>0</td>\n",
       "      <td>0</td>\n",
       "      <td>0</td>\n",
       "      <td>0</td>\n",
       "      <td>...</td>\n",
       "      <td>0</td>\n",
       "      <td>0</td>\n",
       "      <td>0</td>\n",
       "      <td>0</td>\n",
       "      <td>0</td>\n",
       "      <td>0</td>\n",
       "      <td>0</td>\n",
       "      <td>0</td>\n",
       "      <td>0</td>\n",
       "      <td>0</td>\n",
       "    </tr>\n",
       "    <tr>\n",
       "      <th>276726</th>\n",
       "      <td>0</td>\n",
       "      <td>0</td>\n",
       "      <td>0</td>\n",
       "      <td>0</td>\n",
       "      <td>0</td>\n",
       "      <td>0</td>\n",
       "      <td>0</td>\n",
       "      <td>0</td>\n",
       "      <td>0</td>\n",
       "      <td>0</td>\n",
       "      <td>...</td>\n",
       "      <td>0</td>\n",
       "      <td>0</td>\n",
       "      <td>0</td>\n",
       "      <td>0</td>\n",
       "      <td>0</td>\n",
       "      <td>0</td>\n",
       "      <td>0</td>\n",
       "      <td>0</td>\n",
       "      <td>0</td>\n",
       "      <td>0</td>\n",
       "    </tr>\n",
       "    <tr>\n",
       "      <th>276727</th>\n",
       "      <td>0</td>\n",
       "      <td>0</td>\n",
       "      <td>0</td>\n",
       "      <td>0</td>\n",
       "      <td>0</td>\n",
       "      <td>0</td>\n",
       "      <td>0</td>\n",
       "      <td>0</td>\n",
       "      <td>0</td>\n",
       "      <td>0</td>\n",
       "      <td>...</td>\n",
       "      <td>0</td>\n",
       "      <td>0</td>\n",
       "      <td>0</td>\n",
       "      <td>0</td>\n",
       "      <td>0</td>\n",
       "      <td>0</td>\n",
       "      <td>0</td>\n",
       "      <td>0</td>\n",
       "      <td>0</td>\n",
       "      <td>0</td>\n",
       "    </tr>\n",
       "    <tr>\n",
       "      <th>276729</th>\n",
       "      <td>0</td>\n",
       "      <td>0</td>\n",
       "      <td>0</td>\n",
       "      <td>0</td>\n",
       "      <td>0</td>\n",
       "      <td>0</td>\n",
       "      <td>0</td>\n",
       "      <td>0</td>\n",
       "      <td>0</td>\n",
       "      <td>0</td>\n",
       "      <td>...</td>\n",
       "      <td>0</td>\n",
       "      <td>0</td>\n",
       "      <td>0</td>\n",
       "      <td>0</td>\n",
       "      <td>0</td>\n",
       "      <td>0</td>\n",
       "      <td>0</td>\n",
       "      <td>0</td>\n",
       "      <td>0</td>\n",
       "      <td>0</td>\n",
       "    </tr>\n",
       "    <tr>\n",
       "      <th>276733</th>\n",
       "      <td>0</td>\n",
       "      <td>0</td>\n",
       "      <td>0</td>\n",
       "      <td>0</td>\n",
       "      <td>0</td>\n",
       "      <td>0</td>\n",
       "      <td>0</td>\n",
       "      <td>0</td>\n",
       "      <td>0</td>\n",
       "      <td>0</td>\n",
       "      <td>...</td>\n",
       "      <td>0</td>\n",
       "      <td>0</td>\n",
       "      <td>0</td>\n",
       "      <td>0</td>\n",
       "      <td>0</td>\n",
       "      <td>0</td>\n",
       "      <td>0</td>\n",
       "      <td>0</td>\n",
       "      <td>0</td>\n",
       "      <td>0</td>\n",
       "    </tr>\n",
       "  </tbody>\n",
       "</table>\n",
       "<p>5 rows × 1604 columns</p>\n",
       "</div>"
      ],
      "text/plain": [
       "Book-Title  007 El Mundo Nunca Es Suficiente  \\\n",
       "User-ID                                        \n",
       "276725                                     0   \n",
       "276726                                     0   \n",
       "276727                                     0   \n",
       "276729                                     0   \n",
       "276733                                     0   \n",
       "\n",
       "Book-Title  01-01-00: The Novel of the Millennium  101 Dalmatians  \\\n",
       "User-ID                                                             \n",
       "276725                                          0               0   \n",
       "276726                                          0               0   \n",
       "276727                                          0               0   \n",
       "276729                                          0               0   \n",
       "276733                                          0               0   \n",
       "\n",
       "Book-Title  101 Great Resumes  1421 : The Year China Discovered America  \\\n",
       "User-ID                                                                   \n",
       "276725                      0                                         0   \n",
       "276726                      0                                         0   \n",
       "276727                      0                                         0   \n",
       "276729                      0                                         0   \n",
       "276733                      0                                         0   \n",
       "\n",
       "Book-Title  1st to Die: A Novel  24 Hours  \\\n",
       "User-ID                                     \n",
       "276725                        0         0   \n",
       "276726                        0         0   \n",
       "276727                        0         0   \n",
       "276729                        0         0   \n",
       "276733                        0         0   \n",
       "\n",
       "Book-Title  28 Barbary Lane : A \\Tales of the City\\\" Omnibus\"  2nd Chance  \\\n",
       "User-ID                                                                     \n",
       "276725                                                      0           0   \n",
       "276726                                                      0           0   \n",
       "276727                                                      0           0   \n",
       "276729                                                      0           0   \n",
       "276733                                                      0           0   \n",
       "\n",
       "Book-Title  31 Days of Praise : Enjoying God Anew  ...  World's End  \\\n",
       "User-ID                                            ...                \n",
       "276725                                          0  ...            0   \n",
       "276726                                          0  ...            0   \n",
       "276727                                          0  ...            0   \n",
       "276729                                          0  ...            0   \n",
       "276733                                          0  ...            0   \n",
       "\n",
       "Book-Title  Writ of Execution  \\\n",
       "User-ID                         \n",
       "276725                      0   \n",
       "276726                      0   \n",
       "276727                      0   \n",
       "276729                      0   \n",
       "276733                      0   \n",
       "\n",
       "Book-Title  Writer's Digest Handbook of Magazine Article Writing  \\\n",
       "User-ID                                                            \n",
       "276725                                                      0      \n",
       "276726                                                      0      \n",
       "276727                                                      0      \n",
       "276729                                                      0      \n",
       "276733                                                      0      \n",
       "\n",
       "Book-Title  Year of Wonders: A Novel of the Plague  \\\n",
       "User-ID                                              \n",
       "276725                                           0   \n",
       "276726                                           0   \n",
       "276727                                           0   \n",
       "276729                                           0   \n",
       "276733                                           0   \n",
       "\n",
       "Book-Title  Your Finances in Changing Times (The Christian Financial Concepts Series)  \\\n",
       "User-ID                                                                                 \n",
       "276725                                                      0                           \n",
       "276726                                                      0                           \n",
       "276727                                                      0                           \n",
       "276729                                                      0                           \n",
       "276733                                                      0                           \n",
       "\n",
       "Book-Title  Your Life in Your Hands: Understanding, Preventing and Overcoming Breast Cancer  \\\n",
       "User-ID                                                                                       \n",
       "276725                                                      0                                 \n",
       "276726                                                      0                                 \n",
       "276727                                                      0                                 \n",
       "276729                                                      0                                 \n",
       "276733                                                      0                                 \n",
       "\n",
       "Book-Title  Your Personal Trainer  Your Second Child  \\\n",
       "User-ID                                                \n",
       "276725                          0                  0   \n",
       "276726                          0                  0   \n",
       "276727                          0                  0   \n",
       "276729                          0                  0   \n",
       "276733                          0                  0   \n",
       "\n",
       "Book-Title  Zen Essence : The Science of Freedom (Shambhala Pocket Classics)  \\\n",
       "User-ID                                                                        \n",
       "276725                                                      0                  \n",
       "276726                                                      0                  \n",
       "276727                                                      0                  \n",
       "276729                                                      0                  \n",
       "276733                                                      0                  \n",
       "\n",
       "Book-Title  Â¡No bajes al sÃ³tano! (EscalofrÃ­os No. 2)  \n",
       "User-ID                                                  \n",
       "276725                                                0  \n",
       "276726                                                0  \n",
       "276727                                                0  \n",
       "276729                                                0  \n",
       "276733                                                0  \n",
       "\n",
       "[5 rows x 1604 columns]"
      ]
     },
     "execution_count": 9,
     "metadata": {},
     "output_type": "execute_result"
    }
   ],
   "source": [
    "# Build utitlity matrix\n",
    "rating_crosstab = combined_data.pivot_table(values='Book-Rating', index='User-ID', columns='Book-Title', fill_value=0)\n",
    "rating_crosstab.head()"
   ]
  },
  {
   "cell_type": "code",
   "execution_count": 10,
   "metadata": {},
   "outputs": [
    {
     "data": {
      "text/plain": [
       "(214, 1604)"
      ]
     },
     "execution_count": 10,
     "metadata": {},
     "output_type": "execute_result"
    }
   ],
   "source": [
    "rating_crosstab.shape"
   ]
  },
  {
   "cell_type": "code",
   "execution_count": 11,
   "metadata": {},
   "outputs": [
    {
     "data": {
      "text/plain": [
       "(1604, 214)"
      ]
     },
     "execution_count": 11,
     "metadata": {},
     "output_type": "execute_result"
    }
   ],
   "source": [
    "X = rating_crosstab.T\n",
    "X.shape"
   ]
  },
  {
   "cell_type": "code",
   "execution_count": 12,
   "metadata": {},
   "outputs": [
    {
     "data": {
      "text/plain": [
       "(1604, 12)"
      ]
     },
     "execution_count": 12,
     "metadata": {},
     "output_type": "execute_result"
    }
   ],
   "source": [
    "# Decompose Matrix\n",
    "\n",
    "SVD = TruncatedSVD(n_components=12, random_state=17)\n",
    "\n",
    "resultant_matrix = SVD.fit_transform(X)\n",
    "\n",
    "resultant_matrix.shape"
   ]
  },
  {
   "cell_type": "code",
   "execution_count": 13,
   "metadata": {},
   "outputs": [
    {
     "name": "stderr",
     "output_type": "stream",
     "text": [
      "/opt/anaconda3/lib/python3.8/site-packages/numpy/lib/function_base.py:2642: RuntimeWarning: invalid value encountered in true_divide\n",
      "  c /= stddev[:, None]\n",
      "/opt/anaconda3/lib/python3.8/site-packages/numpy/lib/function_base.py:2643: RuntimeWarning: invalid value encountered in true_divide\n",
      "  c /= stddev[None, :]\n"
     ]
    },
    {
     "data": {
      "text/plain": [
       "(1604, 1604)"
      ]
     },
     "execution_count": 13,
     "metadata": {},
     "output_type": "execute_result"
    }
   ],
   "source": [
    "# Generate correlation matrix\n",
    "\n",
    "corr_mat = np.corrcoef(resultant_matrix)\n",
    "corr_mat.shape"
   ]
  },
  {
   "cell_type": "code",
   "execution_count": 14,
   "metadata": {},
   "outputs": [
    {
     "data": {
      "text/plain": [
       "1578"
      ]
     },
     "execution_count": 14,
     "metadata": {},
     "output_type": "execute_result"
    }
   ],
   "source": [
    "movie_names = rating_crosstab.columns\n",
    "movies_list = list(movie_names)\n",
    "\n",
    "movie = movies_list.index('Wild Animus')\n",
    "movie"
   ]
  },
  {
   "cell_type": "code",
   "execution_count": 15,
   "metadata": {},
   "outputs": [
    {
     "data": {
      "text/plain": [
       "(1604,)"
      ]
     },
     "execution_count": 15,
     "metadata": {},
     "output_type": "execute_result"
    }
   ],
   "source": [
    "corr_movie = corr_mat[1578]\n",
    "corr_movie.shape"
   ]
  },
  {
   "cell_type": "code",
   "execution_count": 16,
   "metadata": {},
   "outputs": [
    {
     "data": {
      "text/plain": [
       "['A Walk to Remember',\n",
       " 'Bridget Jones : The Edge of Reason',\n",
       " 'Das zerstÃ?Â¶rte Nest.',\n",
       " 'Der Tod in Venedig',\n",
       " 'Die WÃ¼rde des Menschen ist antastbar: AufsÃ¤tze und Polemiken (Wagenbachs TaschenbÃ¼cherei)',\n",
       " 'Dreamcatcher',\n",
       " 'Go Ask Alice',\n",
       " 'Heat and Dust',\n",
       " 'How to be good.',\n",
       " 'Im Luftschloss meines Vaters: ErzÃ¤hlung',\n",
       " 'La vuelta al mundo en 80 dÃ\\xadas',\n",
       " \"Northanger Abbey, Lady Susan, the Watsons and Sanditon (World's Classics)\",\n",
       " 'Pandora: New Tales of the Vampires (New Tales of the Vampires)',\n",
       " 'People of the Lightning (The First North Americans series, Book 7)',\n",
       " 'People of the Sea (The First North Americans series, Book 5)',\n",
       " 'People of the Silence (The First North Americans series, Book 8)',\n",
       " 'Rites of Passage',\n",
       " 'She Said Yes: The Unlikely Martyrdom of Cassie Bernall',\n",
       " 'The Bell Jar : A Novel (Perennial Classics)',\n",
       " \"The Bonesetter's Daughter\",\n",
       " 'The Circle And The Cross 1: Playing Of',\n",
       " 'The Clear Light of Day (King Penguin S.)',\n",
       " 'The Devil Wears Prada : A Novel',\n",
       " \"The Idiot Girls' Action Adventure Club\",\n",
       " 'The Red Tent (Bestselling Backlist)',\n",
       " 'Uther (Camulod Chronicles)']"
      ]
     },
     "execution_count": 16,
     "metadata": {},
     "output_type": "execute_result"
    }
   ],
   "source": [
    "list(movie_names[(corr_movie<1.0) & (corr_movie > 0.95)])\n"
   ]
  },
  {
   "cell_type": "code",
   "execution_count": 17,
   "metadata": {},
   "outputs": [
    {
     "data": {
      "text/plain": [
       "['Go Ask Alice',\n",
       " 'Pandora: New Tales of the Vampires (New Tales of the Vampires)',\n",
       " 'She Said Yes: The Unlikely Martyrdom of Cassie Bernall',\n",
       " 'The Bell Jar : A Novel (Perennial Classics)',\n",
       " \"The Idiot Girls' Action Adventure Club\"]"
      ]
     },
     "execution_count": 17,
     "metadata": {},
     "output_type": "execute_result"
    }
   ],
   "source": [
    "list(movie_names[(corr_movie<1.0) & (corr_movie > 0.99)])"
   ]
  },
  {
   "cell_type": "code",
   "execution_count": null,
   "metadata": {},
   "outputs": [],
   "source": []
  }
 ],
 "metadata": {
  "kernelspec": {
   "display_name": "Python 3",
   "language": "python",
   "name": "python3"
  },
  "language_info": {
   "codemirror_mode": {
    "name": "ipython",
    "version": 3
   },
   "file_extension": ".py",
   "mimetype": "text/x-python",
   "name": "python",
   "nbconvert_exporter": "python",
   "pygments_lexer": "ipython3",
   "version": "3.8.8"
  }
 },
 "nbformat": 4,
 "nbformat_minor": 1
}
